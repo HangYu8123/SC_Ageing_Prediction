{
 "cells": [
  {
   "cell_type": "code",
   "execution_count": 1,
   "metadata": {},
   "outputs": [
    {
     "name": "stderr",
     "output_type": "stream",
     "text": [
      "/home/hang/.local/lib/python3.10/site-packages/matplotlib/projections/__init__.py:63: UserWarning: Unable to import Axes3D. This may be due to multiple versions of Matplotlib being installed (e.g. as a system package and as a pip package). As a result, the 3D projection is not available.\n",
      "  warnings.warn(\"Unable to import Axes3D. This may be due to multiple versions of \"\n"
     ]
    }
   ],
   "source": [
    "import pandas as pd\n",
    "import numpy as np\n",
    "import scanpy as sc\n",
    "from sklearn.linear_model import LinearRegression\n",
    "from collections import Counter\n",
    "from scipy import stats\n",
    "from tqdm import tqdm\n",
    "import seaborn as sns\n",
    "import matplotlib.pyplot as plt\n",
    "from collections import defaultdict\n",
    "import math\n",
    "from pathlib import Path\n",
    "import os\n",
    "from sklearn.preprocessing import LabelEncoder\n",
    "from sklearn.model_selection import train_test_split\n",
    "import torch\n",
    "from sklearn.preprocessing import StandardScaler\n",
    "from sklearn.decomposition import PCA\n",
    "from sklearn.utils.class_weight import compute_class_weight\n",
    "from torch.utils.data import TensorDataset, DataLoader\n",
    "import torch.nn as nn\n",
    "import torch.nn.functional as F\n",
    "from sklearn.preprocessing import label_binarize\n",
    "from scipy.stats import pearsonr\n",
    "import matplotlib.pyplot as plt\n",
    "from sklearn.preprocessing import label_binarize\n",
    "from sklearn.metrics import r2_score"
   ]
  },
  {
   "cell_type": "code",
   "execution_count": 2,
   "metadata": {},
   "outputs": [],
   "source": [
    "## optional\n",
    "## delete celltypes with cell counts lower than certain amount\n",
    "## specifing an lower bond is a must\n",
    "def filter_low_counts(celltype_df, age_df, celltype_col, threshold):\n",
    "    print(\"Checking low count cell types...\")\n",
    "    \n",
    "    celltype_count = Counter(celltype_df[celltype_col])\n",
    "    for key in celltype_count:\n",
    "        if threshold == None:\n",
    "            unique_ages = np.unique(age_df)\n",
    "            num_groups = (len(unique_ages) + 1) * 100\n",
    "            if celltype_count[key] < num_groups:\n",
    "                print(key, \" has too low counts\")\n",
    "                celltype_df = celltype_df[celltype_df[celltype_col] != key]\n",
    "        else:\n",
    "            if celltype_count[key] < threshold:\n",
    "                print(key, \" has too low counts\")\n",
    "                celltype_df = celltype_df[celltype_df[celltype_col] != key]\n",
    "    return celltype_df\n",
    "\n",
    "def get_skewed_count_info(adata, class_col, age_col, age_threshold):\n",
    "    print(\"Checking skewed count cell types...\")\n",
    "    \n",
    "    # Compute the fraction of cells for each age group within each cell ontology class\n",
    "    group_counts = adata.obs.groupby([class_col, age_col]).size()\n",
    "    total_counts = adata.obs.groupby([class_col]).size()\n",
    "    \n",
    "    # Calculate the fraction of each age group within each class\n",
    "    class_age_fraction = group_counts / total_counts\n",
    "    \n",
    "    # Find the cell classes to filter out based on age distribution\n",
    "    classes_to_filter = class_age_fraction[class_age_fraction > age_threshold].index.get_level_values(0).unique()\n",
    "    \n",
    "    return classes_to_filter\n",
    "\n",
    "## Read h5ad file \n",
    "## and do cell type filtering based on age distribution and cell count thresholds.\n",
    "def read_and_filter_h5ad(filepath_1, filepath_2 = None, class_col=\"celltype\", age_col=\"age\", age_threshold=0.8, count_threshold=None):\n",
    "    \"\"\"Parameters:\n",
    "    adata: AnnData object\n",
    "        The Scanpy AnnData object containing single-cell data.\n",
    "    class_col: str, optional (default: 'celltype')\n",
    "        The column name in adata.obs representing the cell ontology class.\n",
    "    age_col: str, optional (default: 'age')\n",
    "        The column name in adata.obs representing the age of the cells.\n",
    "    age_threshold: float, optional (default: 0.8)\n",
    "        The threshold fraction for filtering based on age distribution. If one age group has more than this\n",
    "        fraction of cells in a class, the class will be filtered out.\n",
    "    count_threshold: list, optional (default: [100])\n",
    "        Threshold for filtering cell types based on count. If a single value is provided,\n",
    "        it filters out cell types with counts lower than this value. If a range is provided,\n",
    "        it filters out cell types outside this range.\n",
    "    \n",
    "    Returns:\n",
    "    filtered_adata: AnnData object\n",
    "        The filtered AnnData object with specified cell ontology classes removed based on both criteria.\"\"\"\n",
    "    try:\n",
    "        adata1 = sc.read_h5ad(filepath_1)\n",
    "        if filepath_2 != None:\n",
    "            adata2 = sc.read_h5ad(filepath_2)\n",
    "            adata1 = adata1.concatenate(adata2)\n",
    "        adata = adata1\n",
    "        \n",
    "        celltype_df = adata.obs[[class_col]].copy()\n",
    "        age_df = adata.obs[[age_col]].copy()\n",
    "        \n",
    "        # Apply the cell count threshold filtering\n",
    "        celltype_df = filter_low_counts(celltype_df, age_df, class_col, count_threshold)\n",
    "    \n",
    "        # Create a filtered AnnData object based on cell count filtering\n",
    "        filtered_adata = adata[celltype_df.index].copy()\n",
    "        \n",
    "        # Identify the skewed classes to filter based on age distribution\n",
    "        classes_to_filter = get_skewed_count_info(filtered_adata, class_col, age_col, age_threshold)\n",
    "        \n",
    "        if len(classes_to_filter):\n",
    "            print(classes_to_filter[0], \" has skewed cell counts\")\n",
    "        # Further filter the AnnData object based on age distribution\n",
    "        final_filtered_adata = filtered_adata[~filtered_adata.obs[class_col].isin(classes_to_filter)].copy()\n",
    "        \n",
    "        return final_filtered_adata\n",
    "    except Exception as e:\n",
    "        raise(e)"
   ]
  },
  {
   "cell_type": "code",
   "execution_count": 8,
   "metadata": {},
   "outputs": [
    {
     "name": "stdout",
     "output_type": "stream",
     "text": [
      "Current working directory: /home/hang/SC_Ageing_Prediction\n",
      "File 1 path: /home/hang/SC_Ageing_Prediction/tabula-muris-senis-facs-processed-official-annotations-Brain_Myeloid.h5ad\n"
     ]
    },
    {
     "name": "stderr",
     "output_type": "stream",
     "text": [
      "/home/hang/.local/lib/python3.10/site-packages/anndata/compat/__init__.py:371: FutureWarning: Moving element from .uns['neighbors']['distances'] to .obsp['distances'].\n",
      "\n",
      "This is where adjacency matrices should go now.\n",
      "  warn(\n",
      "/home/hang/.local/lib/python3.10/site-packages/anndata/compat/__init__.py:371: FutureWarning: Moving element from .uns['neighbors']['connectivities'] to .obsp['connectivities'].\n",
      "\n",
      "This is where adjacency matrices should go now.\n",
      "  warn(\n"
     ]
    },
    {
     "name": "stdout",
     "output_type": "stream",
     "text": [
      "Checking low count cell types...\n",
      "macrophage  has too low counts\n",
      "Checking skewed count cell types...\n"
     ]
    },
    {
     "name": "stderr",
     "output_type": "stream",
     "text": [
      "/tmp/ipykernel_4088/1320463345.py:25: FutureWarning: The default of observed=False is deprecated and will be changed to True in a future version of pandas. Pass observed=False to retain current behavior or observed=True to adopt the future default and silence this warning.\n",
      "  group_counts = adata.obs.groupby([class_col, age_col]).size()\n",
      "/tmp/ipykernel_4088/1320463345.py:26: FutureWarning: The default of observed=False is deprecated and will be changed to True in a future version of pandas. Pass observed=False to retain current behavior or observed=True to adopt the future default and silence this warning.\n",
      "  total_counts = adata.obs.groupby([class_col]).size()\n"
     ]
    }
   ],
   "source": [
    "current_dir = Path.cwd()\n",
    "print(f\"Current working directory: {current_dir}\")\n",
    "file1 = current_dir / \"tabula-muris-senis-facs-processed-official-annotations-Brain_Myeloid.h5ad\"\n",
    "file2 = None\n",
    "print(f\"File 1 path: {file1}\")\n",
    "assert file1.is_file(), f\"File not found: {file1}\"\n",
    "adata = read_and_filter_h5ad(str(file1), None, \"cell_ontology_class\", \"age\")\n"
   ]
  },
  {
   "cell_type": "code",
   "execution_count": 4,
   "metadata": {},
   "outputs": [
    {
     "data": {
      "text/plain": [
       "AnnData object with n_obs × n_vars = 13130 × 22966\n",
       "    obs: 'FACS.selection', 'age', 'cell', 'cell_ontology_class', 'cell_ontology_id', 'free_annotation', 'method', 'mouse.id', 'sex', 'subtissue', 'tissue', 'n_genes', 'n_counts', 'louvain', 'leiden'\n",
       "    var: 'n_cells', 'means', 'dispersions', 'dispersions_norm', 'highly_variable'\n",
       "    uns: 'age_colors', 'cell_ontology_class_colors', 'leiden', 'louvain', 'neighbors', 'pca'\n",
       "    obsm: 'X_pca', 'X_tsne', 'X_umap'\n",
       "    varm: 'PCs'\n",
       "    obsp: 'distances', 'connectivities'"
      ]
     },
     "execution_count": 4,
     "metadata": {},
     "output_type": "execute_result"
    }
   ],
   "source": [
    "adata"
   ]
  },
  {
   "cell_type": "code",
   "execution_count": 12,
   "metadata": {},
   "outputs": [
    {
     "name": "stderr",
     "output_type": "stream",
     "text": [
      "/tmp/ipykernel_4088/4010805653.py:2: FutureWarning: Series.__getitem__ treating keys as positions is deprecated. In a future version, integer keys will always be treated as labels (consistent with DataFrame behavior). To access a value by position, use `ser.iloc[pos]`\n",
      "  adata.obs[\"cell\"][1]\n"
     ]
    },
    {
     "data": {
      "text/plain": [
       "'A10_B001061'"
      ]
     },
     "execution_count": 12,
     "metadata": {},
     "output_type": "execute_result"
    }
   ],
   "source": [
    "#print out first 5 rows of the data\n",
    "adata.obs[\"cell\"][1]\n",
    "print(adata.obs[\"cell\"][1])"
   ]
  }
 ],
 "metadata": {
  "kernelspec": {
   "display_name": "Python 3",
   "language": "python",
   "name": "python3"
  },
  "language_info": {
   "codemirror_mode": {
    "name": "ipython",
    "version": 3
   },
   "file_extension": ".py",
   "mimetype": "text/x-python",
   "name": "python",
   "nbconvert_exporter": "python",
   "pygments_lexer": "ipython3",
   "version": "3.10.16"
  }
 },
 "nbformat": 4,
 "nbformat_minor": 2
}
